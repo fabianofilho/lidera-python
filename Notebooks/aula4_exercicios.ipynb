{
  "nbformat": 4,
  "nbformat_minor": 0,
  "metadata": {
    "colab": {
      "name": "aula4_exercicios.ipynb",
      "provenance": [],
      "collapsed_sections": []
    },
    "kernelspec": {
      "name": "python3",
      "display_name": "Python 3"
    }
  },
  "cells": [
    {
      "cell_type": "markdown",
      "metadata": {
        "id": "yNHmGS1V-K_L",
        "colab_type": "text"
      },
      "source": [
        "# **Curso Python - Exercícios**"
      ]
    },
    {
      "cell_type": "markdown",
      "metadata": {
        "id": "5Z_1KVm3SGI4",
        "colab_type": "text"
      },
      "source": [
        "##**Projeto em Python**"
      ]
    },
    {
      "cell_type": "markdown",
      "metadata": {
        "colab_type": "text",
        "id": "n2eDplCVM2AY"
      },
      "source": [
        "####**Sequencia de Fibonacci: É uma sucessão de números que, misteriosamente, aparece em muitos fenômenos da natureza. Descrita no final do século 12 pelo italiano Leonardo Fibonacci, ela é infinita e começa com 0 e 1. Os números seguintes são sempre a soma dos dois números anteriores. Portanto, depois de 0 e 1, vêm 1, 2, 3, 5, 8, 13, 21, 34…**"
      ]
    },
    {
      "cell_type": "markdown",
      "metadata": {
        "id": "XAC6xqxrzwhh",
        "colab_type": "text"
      },
      "source": [
        "![alt text](https://super.abril.com.br/wp-content/uploads/2018/07/513f755d9827683068000278fibonacci_spiral_geogebra-svg.png)"
      ]
    },
    {
      "cell_type": "markdown",
      "metadata": {
        "colab_type": "text",
        "id": "BW4CxSpsM2Ag"
      },
      "source": [
        "####**Usando esta definição, nós vamos definir uma função que irá gerar esta sequencia, usando os conhecimentos em python**\n",
        "\n",
        "####**V1: Crie a sequencia usando while. Cuidado com loop infinito!**"
      ]
    },
    {
      "cell_type": "code",
      "metadata": {
        "colab_type": "code",
        "id": "0unrxdUCM2Ag",
        "colab": {}
      },
      "source": [
        "def fibonacci(limite):"
      ],
      "execution_count": 0,
      "outputs": []
    },
    {
      "cell_type": "markdown",
      "metadata": {
        "colab_type": "text",
        "id": "VdbMcVcyM2Ak"
      },
      "source": [
        "####**Fazer a v2 usando packing**"
      ]
    },
    {
      "cell_type": "code",
      "metadata": {
        "colab_type": "code",
        "id": "k7pI1CNiM2Am",
        "colab": {}
      },
      "source": [
        ""
      ],
      "execution_count": 0,
      "outputs": []
    },
    {
      "cell_type": "markdown",
      "metadata": {
        "colab_type": "text",
        "id": "1GQdfJyiM2Ar"
      },
      "source": [
        "####**Fazer a v3 usando lista, ou função *sum()*.**"
      ]
    },
    {
      "cell_type": "code",
      "metadata": {
        "colab_type": "code",
        "id": "8erRFgZiM2As",
        "colab": {}
      },
      "source": [
        ""
      ],
      "execution_count": 0,
      "outputs": []
    },
    {
      "cell_type": "markdown",
      "metadata": {
        "colab_type": "text",
        "id": "g0q1H3caM2Az"
      },
      "source": [
        "####**Fazer a v4 usando *break* ou *for* e *range*.**"
      ]
    },
    {
      "cell_type": "code",
      "metadata": {
        "colab_type": "code",
        "id": "821R1uW5M2A0",
        "colab": {}
      },
      "source": [
        ""
      ],
      "execution_count": 0,
      "outputs": []
    },
    {
      "cell_type": "markdown",
      "metadata": {
        "colab_type": "text",
        "id": "abjiSzi-M2A4"
      },
      "source": [
        "####**[DESAFIO] Ultima versão: fibonacci recursivo:**"
      ]
    },
    {
      "cell_type": "code",
      "metadata": {
        "colab_type": "code",
        "id": "ChrO4T0WM2A5",
        "colab": {}
      },
      "source": [
        ""
      ],
      "execution_count": 0,
      "outputs": []
    },
    {
      "cell_type": "markdown",
      "metadata": {
        "id": "SFKoJhq0NAWd",
        "colab_type": "text"
      },
      "source": [
        "##**Exercicios**"
      ]
    },
    {
      "cell_type": "markdown",
      "metadata": {
        "id": "a9Js87_O-gQp",
        "colab_type": "text"
      },
      "source": [
        "**1) Escreva um programa que leia um valor em metros e o exiba convertido em milímetros. \n",
        "Obs: deve-se transformar numeros com virgula em pontos, como no sistema reconhecido pelo python3; Ex: 12,3m = 12.3m. Dica: use a o metodo .replace(','  ,  '.')**\n"
      ]
    },
    {
      "cell_type": "code",
      "metadata": {
        "id": "tPOFNSJt-emX",
        "colab_type": "code",
        "outputId": "7109c2d2-dabd-431f-908d-6c6ca443b418",
        "colab": {
          "base_uri": "https://localhost:8080/",
          "height": 68
        }
      },
      "source": [
        ""
      ],
      "execution_count": 0,
      "outputs": [
        {
          "output_type": "stream",
          "text": [
            "----Conversor de Metros para Milimetros-----\n",
            "Valor em Metros: 1.3\n",
            "Valor em milimetros = 1300.0\n"
          ],
          "name": "stdout"
        }
      ]
    },
    {
      "cell_type": "markdown",
      "metadata": {
        "id": "YsAn2PLEASJ0",
        "colab_type": "text"
      },
      "source": [
        " **2) Escreva um programa que leia a quantidade de dias, horas, minutos e segundos do usuário. Calcule o total em segundos:**"
      ]
    },
    {
      "cell_type": "code",
      "metadata": {
        "id": "3dm_4nRtAPF_",
        "colab_type": "code",
        "outputId": "121af0bd-f28b-42d9-8662-fdd0b2f8c850",
        "colab": {
          "base_uri": "https://localhost:8080/",
          "height": 102
        }
      },
      "source": [
        ""
      ],
      "execution_count": 0,
      "outputs": [
        {
          "output_type": "stream",
          "text": [
            "----Calculo de Tempo em Segundos----\n",
            "Quantos Dias: 36\n",
            "Quantas Horas: 22\n",
            "Quantos minutos: 11\n",
            "3190260\n"
          ],
          "name": "stdout"
        }
      ]
    },
    {
      "cell_type": "markdown",
      "metadata": {
        "id": "5ge9-YEJN4Ge",
        "colab_type": "text"
      },
      "source": [
        "**3) Faça um programa que calcule o aumento de um salário. Ele deve solicitar o valor do salário e a porcentagem do aumento. Exiba o valor do aumento e do novo salário:**\n"
      ]
    },
    {
      "cell_type": "code",
      "metadata": {
        "id": "BOk8YcyBN-Jz",
        "colab_type": "code",
        "outputId": "e416d4c0-3101-4efc-e125-f920467b3f64",
        "colab": {
          "base_uri": "https://localhost:8080/",
          "height": 85
        }
      },
      "source": [
        ""
      ],
      "execution_count": 0,
      "outputs": [
        {
          "output_type": "stream",
          "text": [
            "----Calculo de Percentual de Aumento----\n",
            "Insira o Salário Inicial: 1000\n",
            "Insira o percentual de Aumento: 20\n",
            "O Salário Reajustado é R$ 1200.00\n"
          ],
          "name": "stdout"
        }
      ]
    },
    {
      "cell_type": "markdown",
      "metadata": {
        "id": "8mOODfJ-Suvo",
        "colab_type": "text"
      },
      "source": [
        "**4) Calcule o tempo de uma viagem de carro. Pergunte a distância a percorrer e a velocidade média esperada para a viagem:**"
      ]
    },
    {
      "cell_type": "code",
      "metadata": {
        "id": "HMCKF-HGSzHA",
        "colab_type": "code",
        "outputId": "25b42430-82a0-43db-d12a-6ba5cc42623b",
        "colab": {
          "base_uri": "https://localhost:8080/",
          "height": 85
        }
      },
      "source": [
        ""
      ],
      "execution_count": 0,
      "outputs": [
        {
          "output_type": "stream",
          "text": [
            "----Calculo Tempo de Viagem de Automovel----\n",
            "Insira a Distancia a ser Percorrida: 200\n",
            "Insira a velocidade media: 80\n",
            "O tempo esperado da viagem é de 2 horas e 30 minutos\n"
          ],
          "name": "stdout"
        }
      ]
    },
    {
      "cell_type": "markdown",
      "metadata": {
        "id": "6tdAZYJrUI84",
        "colab_type": "text"
      },
      "source": [
        "**5) Converta uma temperatura digitada em Celsius para Fahrenheit. F = 9*C/5 + 32. 8). Faça agora o contrário, de Fahrenheit para Celsius.**"
      ]
    },
    {
      "cell_type": "code",
      "metadata": {
        "id": "vHgR0TxvUXa5",
        "colab_type": "code",
        "outputId": "cbd4e346-cb55-4ccc-dc0c-359b96f75fcb",
        "colab": {
          "base_uri": "https://localhost:8080/",
          "height": 119
        }
      },
      "source": [
        ""
      ],
      "execution_count": 0,
      "outputs": [
        {
          "output_type": "stream",
          "text": [
            "----Conversor Temperatura Celsius to Fahrenheit----\n",
            "Insira a Temperatura em Celsius: 34\n",
            "Fahrenheit : 93.20\n",
            "----Conversor Temperatura Fahrenheit to Celsius----\n",
            "Insira a Temperatura em Fahrenheit: 99\n",
            "Celsius : 37.22\n"
          ],
          "name": "stdout"
        }
      ]
    },
    {
      "cell_type": "markdown",
      "metadata": {
        "id": "WaZYP_iyUwzW",
        "colab_type": "text"
      },
      "source": [
        "**6) Escreva um programa para calcular a redução do tempo de vida de um fumante. Pergunte a quantidade de cigarros fumados por dia e quantos anos ele já fumou. Considere que um fumante perde 10 minutos de vida a cada cigarro, calcule quantos dias de vida um fumante perderá. Exiba o total de dias:**"
      ]
    },
    {
      "cell_type": "code",
      "metadata": {
        "id": "6QWPnpimU_0E",
        "colab_type": "code",
        "outputId": "311dc576-4049-473c-93d4-b7fefb4f21c8",
        "colab": {
          "base_uri": "https://localhost:8080/",
          "height": 68
        }
      },
      "source": [
        ""
      ],
      "execution_count": 0,
      "outputs": [
        {
          "output_type": "stream",
          "text": [
            "Informe Quantos Cigarros você fuma por dia: 4\n",
            "Informe ha quantos anos você fuma: 20\n",
            "Voce tem 202.78 dias a menos de vida\n"
          ],
          "name": "stdout"
        }
      ]
    },
    {
      "cell_type": "markdown",
      "metadata": {
        "id": "0kQROqhpdVVI",
        "colab_type": "text"
      },
      "source": [
        "**7) Leia um numero fornecido pelo usuario. Se esse numero for positivo, calcule a raiz quadrada do numero. Se o numero for negativo, mostre uma mensagem dizendo que o numero e invalido. Dica: importe a biblioteca math e use o metodo .sqrt()**"
      ]
    },
    {
      "cell_type": "code",
      "metadata": {
        "id": "iraGxnQHds1n",
        "colab_type": "code",
        "outputId": "3692cb66-ad28-47aa-c50e-74090a4002e3",
        "colab": {
          "base_uri": "https://localhost:8080/",
          "height": 51
        }
      },
      "source": [
        ""
      ],
      "execution_count": 0,
      "outputs": [
        {
          "output_type": "stream",
          "text": [
            "Informe o numero:4\n",
            "Raiz quadrada: 2.0\n"
          ],
          "name": "stdout"
        }
      ]
    },
    {
      "cell_type": "markdown",
      "metadata": {
        "id": "6jzyr98Ydvf3",
        "colab_type": "text"
      },
      "source": [
        "**8) Leia o salario de um trabalhador e o valor da prestacao de um emprestimo. Se a prestacao for maior que 20% do salario imprima: 'Emprestimo nao concedido', caso contrario imprima: 'Emprestimo concedido'**\n"
      ]
    },
    {
      "cell_type": "code",
      "metadata": {
        "id": "zYQwDw_beRZ6",
        "colab_type": "code",
        "outputId": "683fa7bf-8c22-45d5-cf05-4bd196a29569",
        "colab": {
          "base_uri": "https://localhost:8080/",
          "height": 68
        }
      },
      "source": [
        ""
      ],
      "execution_count": 0,
      "outputs": [
        {
          "output_type": "stream",
          "text": [
            "Digite o salario: 1000\n",
            "Digite o valor do emprestimo: 100\n",
            "Emprestimo concedido\n"
          ],
          "name": "stdout"
        }
      ]
    },
    {
      "cell_type": "markdown",
      "metadata": {
        "id": "B7-w9vev-9JJ",
        "colab_type": "text"
      },
      "source": [
        "**9) Crie uma lista de idades e nomes usando um dicionário, imprima o nome e se a pessoa é maior de idade. Ex: \" 'Fulano' eh maior de idade\". Dica: utilize dicionario.items() com dois identadores para percorrer os nomes e idades**"
      ]
    },
    {
      "cell_type": "code",
      "metadata": {
        "id": "oR02ZmKO_pnv",
        "colab_type": "code",
        "outputId": "33d48b99-906d-424c-e321-8bbf216486a4",
        "colab": {
          "base_uri": "https://localhost:8080/",
          "height": 102
        }
      },
      "source": [
        "dicionario = { 'Flavio': 23,\n",
        "          'Ana': 12,\n",
        "         'Rodrigo': 18,\n",
        "         'Marcos': 21,\n",
        "         'Bruna': 40,\n",
        "         'Osvaldo': 10}"
      ],
      "execution_count": 0,
      "outputs": [
        {
          "output_type": "stream",
          "text": [
            "Flavio: maior de idade\n",
            "Rodrigo: maior de idade\n",
            "Marcos: maior de idade\n",
            "Bruna: maior de idade\n",
            "Osvaldo: menor de idade\n"
          ],
          "name": "stdout"
        }
      ]
    },
    {
      "cell_type": "markdown",
      "metadata": {
        "id": "9fAYMl42fBlt",
        "colab_type": "text"
      },
      "source": [
        "**10) Construa uma função que retire o domínio dado um e-mail no seguinte formato:**\n",
        "\n",
        "    user@domain.com\n",
        "    \n",
        "**Por exemplo, passando como parâmetro \"user@domain.com\" retornaria: domain.com**"
      ]
    },
    {
      "cell_type": "code",
      "metadata": {
        "id": "1GXKqc7Rnf5a",
        "colab_type": "code",
        "outputId": "636d6a48-6ca5-449f-b244-f6f45c558a16",
        "colab": {
          "base_uri": "https://localhost:8080/",
          "height": 34
        }
      },
      "source": [
        ""
      ],
      "execution_count": 0,
      "outputs": [
        {
          "output_type": "execute_result",
          "data": {
            "text/plain": [
              "'domain.com'"
            ]
          },
          "metadata": {
            "tags": []
          },
          "execution_count": 2
        }
      ]
    },
    {
      "cell_type": "markdown",
      "metadata": {
        "id": "vS7UlSC-pHPi",
        "colab_type": "text"
      },
      "source": [
        "**11) Crie uma função básica que retorna True se a palavra 'cachorro' estiver contida na string de entrada. Não se preocupe com os casos de extremos, como uma pontuação que está sendo anexada à palavra cão, mas que seja senível à caixa.**"
      ]
    },
    {
      "cell_type": "code",
      "metadata": {
        "id": "3KAG3dl6pE5X",
        "colab_type": "code",
        "outputId": "d7e251cb-7987-475a-f176-f5446f02236b",
        "colab": {
          "base_uri": "https://localhost:8080/",
          "height": 34
        }
      },
      "source": [
        "def contaCachorro(st):\n",
        "    \n",
        "\n",
        "contaCachorro('Esse cachorro é mais rápido que o outro cachorro')"
      ],
      "execution_count": 0,
      "outputs": [
        {
          "output_type": "execute_result",
          "data": {
            "text/plain": [
              "2"
            ]
          },
          "metadata": {
            "tags": []
          },
          "execution_count": 8
        }
      ]
    },
    {
      "cell_type": "markdown",
      "metadata": {
        "id": "HGetZbSwq0-0",
        "colab_type": "text"
      },
      "source": [
        "**12) Use expressões lambda e a função filter () para filtrar as palavras de uma lista que não começa com a letra 's'. Por exemplo:**\n",
        "\n",
        "    seq = ['sopa','cachorro','salada','gato','ótimo']\n",
        "\n",
        "**Deveria ser filtrado para:**\n",
        "\n",
        "    ['sopa','salada']"
      ]
    },
    {
      "cell_type": "code",
      "metadata": {
        "id": "y6OPw3TFpx8c",
        "colab_type": "code",
        "colab": {}
      },
      "source": [
        "seq = ['sopa','cachorro','salada','gato','ótimo']"
      ],
      "execution_count": 0,
      "outputs": []
    },
    {
      "cell_type": "code",
      "metadata": {
        "id": "L62kOVturmpa",
        "colab_type": "code",
        "outputId": "91dca02e-dc12-463f-89f2-94d829edb058",
        "colab": {
          "base_uri": "https://localhost:8080/",
          "height": 34
        }
      },
      "source": [
        ""
      ],
      "execution_count": 0,
      "outputs": [
        {
          "output_type": "execute_result",
          "data": {
            "text/plain": [
              "['sopa', 'salada']"
            ]
          },
          "metadata": {
            "tags": []
          },
          "execution_count": 10
        }
      ]
    },
    {
      "cell_type": "markdown",
      "metadata": {
        "id": "5TaBhnIeru5t",
        "colab_type": "text"
      },
      "source": [
        "**13) Você está dirigindo um pouco rápido demais, e um policial para você. Escreva uma função para retornar um dos 3 resultados possíveis: \"No ticket\", \"Small Ticket\" ou \"Big Ticket\".\n",
        "   Se a sua velocidade for igual ou inferior a 60, o resultado é \"No Ticket\". Se a velocidade for entre 61 e 80 inclusive, o resultado é \"Small Ticket\". Se a velocidade é de 81 ou mais, o resultado é \"Big Ticket\". A menos que seja seu aniversário (codificado como um valor booleano nos parâmetros da função) - em seu aniversário, sua velocidade pode ser 5 maior em todos os casos.**"
      ]
    },
    {
      "cell_type": "code",
      "metadata": {
        "id": "SCRAc_pgrqsj",
        "colab_type": "code",
        "colab": {}
      },
      "source": [
        "def capturar_velocidade(velocidade, aniversario):\n",
        "    \n",
        "  "
      ],
      "execution_count": 0,
      "outputs": []
    },
    {
      "cell_type": "code",
      "metadata": {
        "id": "7LV26_WKr0l5",
        "colab_type": "code",
        "outputId": "fe6385aa-63be-4360-c0f3-70c2ae125e0b",
        "colab": {
          "base_uri": "https://localhost:8080/",
          "height": 34
        }
      },
      "source": [
        "capturar_velocidade(81,True)"
      ],
      "execution_count": 0,
      "outputs": [
        {
          "output_type": "execute_result",
          "data": {
            "text/plain": [
              "'Multa Pequena'"
            ]
          },
          "metadata": {
            "tags": []
          },
          "execution_count": 14
        }
      ]
    },
    {
      "cell_type": "code",
      "metadata": {
        "id": "tm3VDzRVsDv-",
        "colab_type": "code",
        "outputId": "5bcbd4ac-4d5e-4f14-a430-5ce5d2732df0",
        "colab": {
          "base_uri": "https://localhost:8080/",
          "height": 34
        }
      },
      "source": [
        "capturar_velocidade(81,False)"
      ],
      "execution_count": 0,
      "outputs": [
        {
          "output_type": "execute_result",
          "data": {
            "text/plain": [
              "'Multa Grande'"
            ]
          },
          "metadata": {
            "tags": []
          },
          "execution_count": 15
        }
      ]
    },
    {
      "cell_type": "markdown",
      "metadata": {
        "id": "p1TFJqYpT4Ou",
        "colab_type": "text"
      },
      "source": [
        "**[DESAFIO] 14) Faça um programa que use a função valorPagamento para determinar o valor a ser pago por uma prestação de uma conta. O programa deverá solicitar ao usuário o valor da prestação e o número de dias em atraso e passar estes valores para a função valorPagamento, que calculará o valor a ser pago e devolverá este valor ao programa que a chamou. O programa deverá então exibir o valor a ser pago na tela. Após a execução o programa deverá voltar a pedir outro valor de prestação e assim continuar até que seja informado um valor igual a zero para a prestação. Neste momento o programa deverá ser encerrado, exibindo o relatório do dia, que conterá a quantidade e o valor total de prestações pagas no dia. O cálculo do valor a ser pago é feito da seguinte forma. Para pagamentos sem atraso, cobrar o valor da prestação. Quando houver atraso, cobrar 3% de multa, mais 0,1% de juros por dia de atraso.**"
      ]
    },
    {
      "cell_type": "code",
      "metadata": {
        "id": "_BUnb3ziSKtm",
        "colab_type": "code",
        "colab": {}
      },
      "source": [
        ""
      ],
      "execution_count": 0,
      "outputs": []
    }
  ]
}